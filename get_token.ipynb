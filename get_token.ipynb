{
 "cells": [
  {
   "cell_type": "code",
   "execution_count": null,
   "metadata": {},
   "outputs": [],
   "source": [
    "import requests\n",
    "from urllib.parse import urlencode\n",
    "import os\n",
    "from dotenv import load_dotenv\n",
    "load_dotenv()\n",
    "\n",
    "# Replace these values with your Spotify app credentials\n",
    "client_id = os.getenv('SPOTIFY_CLIENT_ID')\n",
    "client_secret = os.getenv('SPOTIFY_CLIENT_SECRET_ID')\n",
    "redirect_uri = os.getenv('SPOTIFY_REDIRECT_URI')\n",
    "scope = \"playlist-modify-public,playlist-modify-private,playlist-read-collaborative,playlist-read-private,ugc-image-upload\"  # Add any additional scopes you require (comma-separated)\n",
    "\n",
    "\n",
    "\n",
    "# Step 1: Redirect the user to the Spotify authorization page\n",
    "auth_params = {\n",
    "    \"client_id\": client_id,\n",
    "    \"response_type\": \"code\",\n",
    "    \"redirect_uri\": redirect_uri,\n",
    "    \"scope\": scope,\n",
    "}\n",
    "auth_url = \"https://accounts.spotify.com/authorize?\" + urlencode(auth_params)\n",
    "\n",
    "print(\"Please follow this link to authorize your Spotify app:\")\n",
    "print(auth_url)\n",
    "\n",
    "# Step 2: After authorization, the user will be redirected to your specified `redirect_uri` with an authorization code.\n",
    "\n",
    "# Step 3: Exchange the authorization code for an access token\n",
    "authorization_code = input(\"Enter the authorization code from the redirected URL: \")\n",
    "\n",
    "token_url = \"https://accounts.spotify.com/api/token\"\n",
    "token_params = {\n",
    "    \"grant_type\": \"authorization_code\",\n",
    "    \"code\": authorization_code,\n",
    "    \"redirect_uri\": redirect_uri,\n",
    "    \"client_id\": client_id,\n",
    "    \"client_secret\": client_secret,\n",
    "}\n",
    "response = requests.post(token_url, data=token_params)\n",
    "\n",
    "if response.status_code == 200:\n",
    "    access_token = response.json()[\"access_token\"]\n",
    "    print(\"Access token:\", access_token)\n",
    "else:\n",
    "    print(\"Failed to get the access token.\")\n",
    "    print(response.status_code, response.json())\n"
   ]
  },
  {
   "cell_type": "code",
   "execution_count": 2,
   "metadata": {},
   "outputs": [
    {
     "data": {
      "text/plain": [
       "True"
      ]
     },
     "execution_count": 2,
     "metadata": {},
     "output_type": "execute_result"
    }
   ],
   "source": [
    "import requests\n",
    "from urllib.parse import urlencode\n",
    "import os\n",
    "from dotenv import load_dotenv\n",
    "import base64\n",
    "load_dotenv()"
   ]
  },
  {
   "cell_type": "code",
   "execution_count": 3,
   "metadata": {},
   "outputs": [],
   "source": [
    "access_token = 'AQCTrN9q6t5gIysljDGCqByGiOa39hcFwPhlwGgH6g2bjKe-6M8QZ9BJ23yH3sL3SmBr6RHiWEj3JKlvgmT34WSSJiQcqR4Gw9zkY4v8c6XCuvpea5kzhlfzYqfTx0n5mL881tYjA0RKQ3r8sV8OCVNerVGOh_t2ssOSx2P3qe4StNdjNAT1dpFLkhPRKZtErRNaewzeBF9snTWRrfR7YqU4wsLpqNnLQs_MyMCwn9y1CKxHgZtuK9Tr5JQZMTLqD0tUVbCibeYLzn-Vrnz_mwEz0rA7JYfQcdm_94R63Q6BCcF-Zq379rZPLCGS-Xw7f6Ef1GI'"
   ]
  },
  {
   "cell_type": "code",
   "execution_count": 4,
   "metadata": {},
   "outputs": [],
   "source": [
    "import os\n",
    "import requests\n",
    "\n",
    "data = {\n",
    "    'client_id': os.getenv('SPOTIFY_CLIENT_ID'),\n",
    "    'client_secret': os.getenv('SPOTIFY_CLIENT_SECRET_ID'),\n",
    "    'grant_type': 'authorization_code',\n",
    "    'code': access_token,\n",
    "    'redirect_uri': os.getenv('SPOTIFY_REDIRECT_URI'),\n",
    "}\n",
    "\n",
    "response = requests.post('https://accounts.spotify.com/api/token', data=data)"
   ]
  },
  {
   "cell_type": "code",
   "execution_count": 5,
   "metadata": {},
   "outputs": [
    {
     "data": {
      "text/plain": [
       "'{\"access_token\":\"BQA2hnOonVT5D6jjJxqvEu-3W7BBNuKriL433JZfbLMNxdVmEiv1AcIpCbxWgWBMPz1FTjBdq9ohRew_KFrz1cm0PQWuqNy3LmyQcTEy9ejSOMaQ819TgXUBQphMWJlhES6lZHGHslJS1-6HHEylZcMx-MDN9J8zRMRxX5izMUIZSLy6X6cBEvc1IpiK9TtsXcPcG_IXlGxNA1wuP8Q9nxWdboZvvHrCX1kCyZaA_DnFDaBRiEBXUdtLq0EBQbr4Sl9e_pX2JKegJNo\",\"token_type\":\"Bearer\",\"expires_in\":3600,\"refresh_token\":\"AQC1H9hY4Gm5xluJpSkuYXmt1aHHJArGUeEu1WjVK9hgIN1M95Dq8j4PKfeqwu16j0NCLLj--Eiwp1m-0xYaSeJs6DP2XWTRQAbyXdfEtTvoBHKhmPRzArEbqyKMTa3IsW4\",\"scope\":\"playlist-read-private playlist-read-collaborative ugc-image-upload playlist-modify-private playlist-modify-public\"}'"
      ]
     },
     "execution_count": 5,
     "metadata": {},
     "output_type": "execute_result"
    }
   ],
   "source": [
    "response.text"
   ]
  },
  {
   "cell_type": "code",
   "execution_count": 17,
   "metadata": {},
   "outputs": [
    {
     "name": "stdout",
     "output_type": "stream",
     "text": [
      "Bearer Token: BQAHgcmLOhgUxQwezeS2VoAzKlzhaAntYVlk2zdlZOD_Lj5RZkfmS0-LPj7Pf_qML1HIBnnrywwZPo_JN9uiIQXP_0ERmqrB7Apv-0_D9jFoSVfP6e5TOr6XFkroiwbL7FyChcfyIAyA8CAAMPoZnMs09MaTNB5GcpPOOhssJKSl469k1AkqbdwCl7G0ffAUv2L5b7PaGqj6FIBOuo_nQQezJLYCXlc_EmQQ0sGDBZOYbF1YhB5p2l9X99EaTnWyHkgNOH3zm7vUgxE\n"
     ]
    }
   ],
   "source": [
    "import requests\n",
    "import base64\n",
    "\n",
    "def get_bearer_token(client_id, client_secret, refresh_token):\n",
    "    # Spotify Accounts service endpoint\n",
    "    token_url = \"https://accounts.spotify.com/api/token\"\n",
    "\n",
    "    # Encode the client_id and client_secret in Base64\n",
    "    credentials = f\"{client_id}:{client_secret}\"\n",
    "    credentials_b64 = base64.b64encode(credentials.encode()).decode('utf-8')\n",
    "\n",
    "    # Set up the headers for the request\n",
    "    headers = {\n",
    "        'Authorization': f'Basic {credentials_b64}',\n",
    "        'Content-Type': 'application/x-www-form-urlencoded',\n",
    "    }\n",
    "\n",
    "    # Set up the data for the request\n",
    "    data = {\n",
    "        'grant_type': 'refresh_token',\n",
    "        'refresh_token': refresh_token,\n",
    "    }\n",
    "\n",
    "    # Make the request to obtain the access token\n",
    "    response = requests.post(token_url, headers=headers, data=data)\n",
    "\n",
    "    # Check if the request was successful (status code 200)\n",
    "    if response.status_code == 200:\n",
    "        # Parse the response JSON to get the access token\n",
    "        access_token = response.json()['access_token']\n",
    "        return access_token\n",
    "    else:\n",
    "        # Print an error message if the request fails\n",
    "        print(f\"Error: {response.status_code}\")\n",
    "        print(response.text)\n",
    "        return None\n",
    "\n",
    "\n",
    "# Get the bearer token\n",
    "bearer_token = get_bearer_token(os.getenv('SPOTIFY_CLIENT_ID'), os.getenv('SPOTIFY_CLIENT_SECRET_ID'), os.getenv('SPOTIFY_REFRESH_TOKEN_PLAYLISTS'))\n",
    "\n",
    "if bearer_token:\n",
    "    print(f\"Bearer Token: {bearer_token}\")\n",
    "else:\n",
    "    print(\"Failed to obtain Bearer Token.\")\n"
   ]
  },
  {
   "cell_type": "code",
   "execution_count": 16,
   "metadata": {},
   "outputs": [
    {
     "data": {
      "text/plain": [
       "'35183bb34bb64984b7a8ff02fdb4d368'"
      ]
     },
     "execution_count": 16,
     "metadata": {},
     "output_type": "execute_result"
    }
   ],
   "source": [
    "os.getenv('SPOTIFY_CLIENT_SECRET_ID')"
   ]
  },
  {
   "cell_type": "code",
   "execution_count": null,
   "metadata": {},
   "outputs": [],
   "source": []
  }
 ],
 "metadata": {
  "kernelspec": {
   "display_name": "Python 3",
   "language": "python",
   "name": "python3"
  },
  "language_info": {
   "codemirror_mode": {
    "name": "ipython",
    "version": 3
   },
   "file_extension": ".py",
   "mimetype": "text/x-python",
   "name": "python",
   "nbconvert_exporter": "python",
   "pygments_lexer": "ipython3",
   "version": "3.8.3"
  }
 },
 "nbformat": 4,
 "nbformat_minor": 4
}
